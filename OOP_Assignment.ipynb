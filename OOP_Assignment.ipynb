{
  "nbformat": 4,
  "nbformat_minor": 0,
  "metadata": {
    "colab": {
      "provenance": []
    },
    "kernelspec": {
      "name": "python3",
      "display_name": "Python 3"
    },
    "language_info": {
      "name": "python"
    }
  },
  "cells": [
    {
      "cell_type": "code",
      "source": [
        "#1.What is Object-Oriented Programming (OOP)?\n",
        "Ans:Object-Oriented Programming (OOP) is a paradigm based on objects, which encapsulate data (attributes) and behavior (methods). It uses classes as blueprints to create objects.\n",
        "The four main principles are Encapsulation (restricting direct access to data), Abstraction (hiding implementation details), Inheritance (reusing code from parent classes), and\n",
        "Polymorphism (using a single interface for different data types). OOP improves code modularity, reusability, and maintainability. Examples include Java, Python, and C++. It models\n",
        "real-world entities effectively in software development."
      ],
      "metadata": {
        "id": "1Sneg3dHNGdI"
      },
      "execution_count": null,
      "outputs": []
    },
    {
      "cell_type": "code",
      "source": [
        "#2.What is a class in OOP?\n",
        "Ans:A class is a blueprint or template for creating objects. It defines the attributes (data members) and methods (functions) that its objects will have. A class does not store\n",
        "data itself but provides a structure for creating multiple instances (objects).\n",
        "\n",
        "class Car:\n",
        "    def __init__(self, brand, color):\n",
        "        self.brand = brand  # Attribute\n",
        "        self.color = color  # Attribute\n",
        "\n",
        "    def drive(self):\n",
        "        print(f\"{self.color} {self.brand} is driving!\")  # Method\n",
        "\n",
        "# Creating an object (instance) of the class\n",
        "my_car = Car(\"Toyota\", \"Red\")\n",
        "my_car.drive()  # Output: Red Toyota is driving!"
      ],
      "metadata": {
        "id": "ZAoaPdtgNiQr"
      },
      "execution_count": null,
      "outputs": []
    },
    {
      "cell_type": "code",
      "source": [
        "#3.What is an object in OOP?\n",
        "Ans:\n",
        "An object is an instance of a class. It represents a real-world entity with attributes (data) and methods (behavior) defined in its class. Each object has unique values for its\n",
        "attributes but follows the structure of its class.\n",
        "class Car:\n",
        "    def __init__(self, brand, color):\n",
        "        self.brand = brand  # Attribute\n",
        "        self.color = color  # Attribute\n",
        "\n",
        "    def drive(self):\n",
        "        print(f\"{self.color} {self.brand} is driving!\")  # Method\n",
        "\n",
        "# Creating objects (instances) of the class\n",
        "car1 = Car(\"Toyota\", \"Red\")\n",
        "car2 = Car(\"Honda\", \"Blue\")\n",
        "\n",
        "car1.drive()  # Output: Red Toyota is driving!\n",
        "car2.drive()  # Output: Blue Honda is driving!"
      ],
      "metadata": {
        "id": "aVjM-PSeN-DL"
      },
      "execution_count": null,
      "outputs": []
    },
    {
      "cell_type": "code",
      "source": [
        "#4. What is the difference between abstraction and encapsulation?\n",
        "Ans:\n",
        "Abstraction hides implementation details and shows only essential features, simplifying complexity. It is achieved using abstract classes or interfaces.\n",
        "\n",
        "Encapsulation restricts direct access to data by wrapping it within a class and controlling modification via access modifiers (private, public, protected).\n",
        "\n",
        "Example:\n",
        "\n",
        "Abstraction: A car's steering hides internal mechanics.\n",
        "Encapsulation: The engine's internal details are hidden, but controlled via methods.\n",
        "Both improve security, modularity, and maintainability in OOP."
      ],
      "metadata": {
        "id": "VLwIA5bFOO1n"
      },
      "execution_count": null,
      "outputs": []
    },
    {
      "cell_type": "code",
      "source": [
        "#5.What are dunder methods in Python?\n",
        "Ans:\n",
        "Dunder (Double Underscore) Methods, also called magic methods, are special methods in Python that start and end with __. They enable operator overloading and custom behavior for\n",
        "built-in functions.\n",
        "\n",
        "Examples:\n",
        "\n",
        "__init__(): Initializes an object.\n",
        "__str__(): Defines string representation.\n",
        "__add__(): Overloads + operator.\n"
      ],
      "metadata": {
        "id": "fvSzzlF_OoID"
      },
      "execution_count": null,
      "outputs": []
    },
    {
      "cell_type": "code",
      "source": [
        "#6.Explain the concept of inheritance in OOP.\n",
        "Ans:\n",
        "Inheritance allows a class (child) to inherit attributes and methods from another class (parent), promoting code reusability. The child class can override or extend parent class\n",
        "functionality.\n",
        "\n",
        "Types:\n",
        "\n",
        "Single Inheritance: One parent, one child.\n",
        "Multiple Inheritance: Child inherits from multiple parents.\n",
        "Multilevel Inheritance: Inherits from a derived class."
      ],
      "metadata": {
        "id": "fznmGEzcPNRt"
      },
      "execution_count": null,
      "outputs": []
    },
    {
      "cell_type": "code",
      "source": [
        "#7.What is polymorphism in OOP?\n",
        "Ans:\n",
        "Polymorphism allows the same method or operator to have different behaviors based on the object. It enhances flexibility and code reusability.\n",
        "\n",
        "Types:\n",
        "\n",
        "Method Overriding: Child class redefines a parent method.\n",
        "Method Overloading (Python achieves it using default arguments).\n",
        "Operator Overloading: Custom behavior for operators like +, *."
      ],
      "metadata": {
        "id": "PU7TJ6UePPKD"
      },
      "execution_count": null,
      "outputs": []
    },
    {
      "cell_type": "code",
      "source": [
        "#8.How is encapsulation achieved in Python?\n",
        "Ans:\n",
        "Encapsulation is achieved by restricting direct access to data using access modifiers:\n",
        "\n",
        "Public (variable): Accessible everywhere.\n",
        "Protected (_variable): Suggests limited access.\n",
        "Private (__variable): Only accessible inside the class.\n",
        "class Car:\n",
        "    def __init__(self, brand):\n",
        "        self.__brand = brand  # Private attribute\n",
        "\n",
        "    def get_brand(self):\n",
        "        return self.__brand  # Accessor method\n",
        "\n",
        "car = Car(\"Toyota\")\n",
        "print(car.get_brand())  # Toyota\n",
        "print(car.__brand)  # Error: Attribute not accessible"
      ],
      "metadata": {
        "id": "zNkYQKbtPW_9"
      },
      "execution_count": null,
      "outputs": []
    },
    {
      "cell_type": "code",
      "source": [
        "#9.What is a constructor in Python?\n",
        "Ans:\n",
        "A constructor is a special method in Python, named __init__(), that is automatically called when an object is created. It initializes the object’s attributes. Constructors are used\n",
        "to set up the initial state of an object.\n",
        "class Car:\n",
        "    def __init__(self, brand, color):\n",
        "        self.brand = brand  # Initializing attributes\n",
        "        self.color = color\n",
        "\n",
        "car1 = Car(\"Toyota\", \"Red\")  # Constructor initializes attributes\n",
        "print(car1.brand)  # Toyota"
      ],
      "metadata": {
        "id": "IJY1gZZAPkpI"
      },
      "execution_count": null,
      "outputs": []
    },
    {
      "cell_type": "code",
      "source": [
        "#10.What are class and static methods in Python?\n",
        "Ans:\n",
        "Class Method: Defined using @classmethod, it takes the class as the first argument (cls). Class methods can access and modify class-level attributes.\n",
        "\n",
        "Static Method: Defined using @staticmethod, it doesn't take self or cls as a parameter. Static methods don't modify class or instance attributes but can be used for utility\n",
        "functions related to the class.\n",
        "class Car:\n",
        "    @classmethod\n",
        "    def info(cls): print(\"Car class\")\n",
        "    @staticmethod\n",
        "    def drive(): print(\"Car is driving\")\n",
        "\n",
        "Car.info()  # Car class\n",
        "Car.drive()  # Car is driving"
      ],
      "metadata": {
        "id": "7yMBD1euPxHH"
      },
      "execution_count": null,
      "outputs": []
    },
    {
      "cell_type": "code",
      "source": [
        "#11.What is method overloading in Python?\n",
        "Ans:\n",
        "In Python, method overloading (having multiple methods with the same name but different parameters) is not supported directly. However, it can be mimicked using default arguments\n",
        "or variable-length argument lists (*args, **kwargs).This allows a single method to handle different numbers or types of arguments.While Python doesn’t enforce overloading like other\n",
        "languages (e.g., Java), using flexible argument handling mimics this feature, providing versatility in method implementation."
      ],
      "metadata": {
        "id": "LPk_RIPPP8sW"
      },
      "execution_count": null,
      "outputs": []
    },
    {
      "cell_type": "code",
      "source": [
        "#12.What is method overriding in OOP?\n",
        "Ans:\n",
        "Method overriding occurs when a child class provides a specific implementation of a method that is already defined in its parent class. It allows the child class to alter or extend\n",
        "the behavior of the parent class method. Overriding ensures that the child class’s version of the method is called, even when it is invoked through a parent class reference.\n",
        "\n",
        "Key points:\n",
        "\n",
        "It is used to provide custom behavior in the derived class.\n",
        "The method in the child class must have the same name, parameters, and return type as in the parent class."
      ],
      "metadata": {
        "id": "OJqLCsWVQTdC"
      },
      "execution_count": null,
      "outputs": []
    },
    {
      "cell_type": "code",
      "source": [
        "#13.What is a property decorator in Python?\n",
        "Ans:\n",
        "The @property decorator in Python is used to define methods as properties. It allows a method to be accessed like an attribute, enabling controlled access to instance variables.\n",
        "Properties allow you to define getter, setter, and deleter methods, making attribute access more flexible and encapsulated.\n",
        "\n",
        "Getter: The method decorated with @property is used to retrieve the value of an attribute.\n",
        "Setter: The method decorated with @<attribute>.setter allows modification of the attribute's value.\n",
        "Deleter: The method decorated with @<attribute>.deleter allows deleting the attribute."
      ],
      "metadata": {
        "id": "KNclVw_4Qcdj"
      },
      "execution_count": null,
      "outputs": []
    },
    {
      "cell_type": "code",
      "source": [
        "#14.Why is polymorphism important in OOP?\n",
        "Ans:\n",
        "Polymorphism allows different objects to be treated as instances of the same class through a common interface, enabling flexibility and extensibility in OOP. It simplifies code and\n",
        "promotes code reusability by allowing the same method to work with different types of objects.\n",
        "\n",
        "Key benefits:\n",
        "\n",
        "Flexibility: Objects of different classes can be used interchangeably, making code more adaptable.\n",
        "Extensibility: New classes can be added with minimal changes to existing code.\n",
        "Maintainability: Polymorphic behavior reduces code duplication by centralizing shared functionality.\n",
        "Interface consistency: It ensures that different classes implement the same methods in a way that is specific to each class."
      ],
      "metadata": {
        "id": "kpSfqsw-Ql4a"
      },
      "execution_count": null,
      "outputs": []
    },
    {
      "cell_type": "code",
      "source": [
        "#15.What is an abstract class in Python?\n",
        "Ans:\n",
        "An abstract class in Python is a class that cannot be instantiated directly and is designed to be subclassed. It can define abstract methods, which are methods that must be\n",
        "implemented by any non-abstract subclass. Abstract classes are defined using the abc module (Abstract Base Classes).\n",
        "\n",
        "Key points:\n",
        "\n",
        "Abstract methods are declared using the @abstractmethod decorator.\n",
        "An abstract class can have both abstract methods (without implementation) and concrete methods (with implementation).\n",
        "It helps ensure that subclasses provide specific behavior."
      ],
      "metadata": {
        "id": "H7Nc3g-4Quck"
      },
      "execution_count": null,
      "outputs": []
    },
    {
      "cell_type": "code",
      "source": [
        "#16. What are the advantages of OOP?\n",
        "Ans:\n",
        "Object-Oriented Programming (OOP) offers several benefits, making it a preferred paradigm for large-scale software development:\n",
        "\n",
        "Modularity: Code is organized into classes and objects, making it easier to maintain and update.\n",
        "Reusability: Classes can be reused in different programs through inheritance, reducing redundancy and enhancing productivity.\n",
        "Scalability: OOP facilitates the creation of systems that can easily be extended by adding new classes and methods without affecting existing code.\n",
        "Encapsulation: OOP hides data implementation, providing controlled access and increasing data security.\n",
        "Maintainability: OOP's clear structure and modularity make it easier to debug, modify, and enhance code over time.\n",
        "Abstraction: It helps in simplifying complex systems by exposing only necessary details, improving user interaction and understanding."
      ],
      "metadata": {
        "id": "M4UB7GNQQ3_H"
      },
      "execution_count": null,
      "outputs": []
    },
    {
      "cell_type": "code",
      "source": [
        "#17.What is the difference between a class variable and an instance variable?\n",
        "Ans:\n",
        "Class Variable:\n",
        "\n",
        "Belongs to the class and is shared among all instances of that class.\n",
        "It is defined within the class, outside any instance methods.\n",
        "Changing a class variable affects all instances.\n",
        "\n",
        "Instance Variable:\n",
        "\n",
        "Belongs to a specific instance (object) and is unique to that object.\n",
        "It is defined inside the __init__() method or other instance methods.\n",
        "Changing an instance variable affects only that object."
      ],
      "metadata": {
        "id": "jXis3cgRRBIb"
      },
      "execution_count": null,
      "outputs": []
    },
    {
      "cell_type": "code",
      "source": [
        "#18.What is multiple inheritance in Python?\n",
        "Ans:\n",
        "Multiple inheritance occurs when a class inherits from more than one parent class. This allows a child class to inherit attributes and methods from multiple classes, promoting code\n",
        "reuse. Python supports multiple inheritance, unlike some other languages that restrict it.\n",
        "\n",
        "Key Points:\n",
        "\n",
        "The child class can access methods and attributes from all parent classes.\n",
        "The Method Resolution Order (MRO) determines the order in which classes are searched for methods, avoiding ambiguity.\n",
        "Python resolves method conflicts by following the MRO."
      ],
      "metadata": {
        "id": "398AXSJxRLl0"
      },
      "execution_count": null,
      "outputs": []
    },
    {
      "cell_type": "code",
      "source": [
        "#19.Explain the purpose of ‘’__str__’ and ‘__repr__’ ‘ methods in Python.\n",
        "Ans:\n",
        "Both __str__ and __repr__ are special methods used to define how objects are represented as strings, but they serve different purposes:\n",
        "\n",
        "__str__:\n",
        "\n",
        "Defines a user-friendly string representation of the object.\n",
        "Used by print() and str().\n",
        "The goal is to provide a readable and informal description.\n",
        "__repr__:\n",
        "\n",
        "Defines a more detailed and unambiguous string representation, often suitable for debugging.\n",
        "Used by repr() and when the object is printed in the interpreter.\n",
        "The goal is to provide a formal and reproducible string that can be used to recreate the object."
      ],
      "metadata": {
        "id": "GFqsAQLrRTsz"
      },
      "execution_count": null,
      "outputs": []
    },
    {
      "cell_type": "code",
      "source": [
        "#20.What is the significance of the ‘super()’ function in Python?\n",
        "Ans:\n",
        "The super() function in Python is used to call methods from a parent class in the context of inheritance. It allows a child class to invoke methods from its superclass, enabling\n",
        "the extension or modification of inherited functionality.\n",
        "\n",
        "Key uses of super():\n",
        "\n",
        "Access parent methods: Calls methods from the parent class without explicitly naming it.\n",
        "Avoiding explicit references: It ensures the correct method resolution order (MRO) in multiple inheritance.\n",
        "Extending functionality: The child class can extend or modify the behavior of inherited methods."
      ],
      "metadata": {
        "id": "VWlN-MqQRcjc"
      },
      "execution_count": null,
      "outputs": []
    },
    {
      "cell_type": "code",
      "source": [
        "#21.What is the significance of the __del__ method in Python?\n",
        "Ans:\n",
        "The __del__ method in Python is a special method called a destructor, invoked when an object is about to be destroyed or deleted. It provides a way to release resources, such as\n",
        "closing files, network connections, or freeing up memory when an object is no longer needed.\n",
        "\n",
        "Key points:\n",
        "\n",
        "The __del__ method is automatically called when an object's reference count drops to zero, meaning it is garbage collected.\n",
        "It is not guaranteed to be called immediately, as garbage collection is handled by Python's memory manager."
      ],
      "metadata": {
        "id": "9pNfhUu3Rk6G"
      },
      "execution_count": null,
      "outputs": []
    },
    {
      "cell_type": "code",
      "source": [
        "#22.What is the difference between @staticmethod and @classmethod in Python?\n",
        "Ans:\n",
        "@staticmethod:\n",
        "\n",
        "Does not take self or cls as parameters.\n",
        "It behaves like a regular function but belongs to the class.\n",
        "Cannot modify class or instance state.\n",
        "Used for utility functions that don't need access to class or instance attributes.\n",
        "\n",
        "@classmethod:\n",
        "\n",
        "Takes cls (the class) as the first argument.\n",
        "Can access and modify class variables but not instance variables.\n",
        "Typically used for factory methods or methods affecting the class itself."
      ],
      "metadata": {
        "id": "zNA55k3hRvZ4"
      },
      "execution_count": null,
      "outputs": []
    },
    {
      "cell_type": "code",
      "source": [
        "#23.How does polymorphism work in Python with inheritance?\n",
        "Ans:\n",
        "In Python, polymorphism allows a method to have different behaviors based on the object that calls it, even when the method has the same name in different classes. With inheritance,\n",
        "a subclass can override a method from its superclass, providing specific behavior while maintaining the same interface.\n",
        "This allows for dynamic method binding, where the method that gets executed is determined at runtime based on the object's type, not the reference type."
      ],
      "metadata": {
        "id": "PXYXPItMR4JW"
      },
      "execution_count": null,
      "outputs": []
    },
    {
      "cell_type": "code",
      "source": [
        "#24.What is method chaining in Python OOP?\n",
        "Ans:\n",
        "Method chaining in Python is a technique where multiple methods are called on the same object, one after another, in a single line of code. This is possible when each method\n",
        "returns the object itself (i.e., self), allowing for successive method calls.\n",
        "\n",
        "Key points:\n",
        "\n",
        "It improves code readability by reducing the need for intermediate variables.\n",
        "It is commonly used in fluent interfaces where methods return the object for further calls.\n"
      ],
      "metadata": {
        "id": "6kYUmj2LSDRA"
      },
      "execution_count": null,
      "outputs": []
    },
    {
      "cell_type": "code",
      "source": [
        "#25.What is the purpose of the __call__ method in Python?\n",
        "Ans:\n",
        "The __call__ method in Python is a special method that allows an instance of a class to be called like a function. By defining __call__, you can make an object behave as if it were\n",
        "a function, enabling more flexible designs and simplifying code.\n",
        "\n",
        "Key points:\n",
        "\n",
        "The method is invoked when the object is called using parentheses ().\n",
        "It can take any number of arguments and behave like a regular function.\n",
        "It is useful in situations where you want to create callable objects or implement behaviors similar to functions."
      ],
      "metadata": {
        "id": "l6Hz__g1SNvM"
      },
      "execution_count": null,
      "outputs": []
    },
    {
      "cell_type": "code",
      "source": [
        "#PRACTICAL QUESTIONS"
      ],
      "metadata": {
        "id": "X4zEmbErSXIc"
      },
      "execution_count": null,
      "outputs": []
    },
    {
      "cell_type": "code",
      "source": [
        "#1.Create a parent class Animal with a method speak() that prints a generic message. Create a child class Dog that overrides the speak() method to print \"Bark!\".\n",
        "class Animal:\n",
        "    def speak(self):\n",
        "        print(\"Animal speaks\")\n",
        "\n",
        "class Dog(Animal):\n",
        "    def speak(self):  # Method overriding\n",
        "        print(\"Bark!\")\n",
        "\n",
        "# Create instances and call the speak method\n",
        "animal = Animal()\n",
        "animal.speak()  # Output: Animal speaks\n",
        "\n",
        "dog = Dog()\n",
        "dog.speak()  # Output: Bark!\n"
      ],
      "metadata": {
        "colab": {
          "base_uri": "https://localhost:8080/"
        },
        "id": "V7eoXJjQScCu",
        "outputId": "49edc7a6-6bea-438e-8e4a-a6506980c96e"
      },
      "execution_count": 3,
      "outputs": [
        {
          "output_type": "stream",
          "name": "stdout",
          "text": [
            "Animal speaks\n",
            "Bark!\n"
          ]
        }
      ]
    },
    {
      "cell_type": "code",
      "source": [
        "#2.Write a program to create an abstract class Shape with a method area(). Derive classes Circle and Rectangle from it and implement the area() method in both.\n",
        "from abc import ABC, abstractmethod\n",
        "import math\n",
        "\n",
        "# Abstract class\n",
        "class Shape(ABC):\n",
        "    @abstractmethod\n",
        "    def area(self):\n",
        "        pass\n",
        "\n",
        "# Circle class inheriting from Shape\n",
        "class Circle(Shape):\n",
        "    def __init__(self, radius):\n",
        "        self.radius = radius\n",
        "\n",
        "    def area(self):\n",
        "        return math.pi * (self.radius ** 2)\n",
        "\n",
        "# Rectangle class inheriting from Shape\n",
        "class Rectangle(Shape):\n",
        "    def __init__(self, width, height):\n",
        "        self.width = width\n",
        "        self.height = height\n",
        "\n",
        "    def area(self):\n",
        "        return self.width * self.height\n",
        "\n",
        "# Create instances and calculate areas\n",
        "circle = Circle(5)\n",
        "print(f\"Circle Area: {circle.area()}\")  # Output: Circle Area: 78.53981633974483\n",
        "\n",
        "rectangle = Rectangle(4, 6)\n",
        "print(f\"Rectangle Area: {rectangle.area()}\")  # Output: Rectangle Area: 24\n"
      ],
      "metadata": {
        "colab": {
          "base_uri": "https://localhost:8080/"
        },
        "id": "6c1sZfudSp64",
        "outputId": "e265e62c-69cf-4436-e21d-683609ecab85"
      },
      "execution_count": 4,
      "outputs": [
        {
          "output_type": "stream",
          "name": "stdout",
          "text": [
            "Circle Area: 78.53981633974483\n",
            "Rectangle Area: 24\n"
          ]
        }
      ]
    },
    {
      "cell_type": "code",
      "source": [
        "#3. Implement a multi-level inheritance scenario where a class Vehicle has an attribute type. Derive a class Car and further derive a class ElectricCar that adds a battery attribute.\n",
        "# Base class\n",
        "class Vehicle:\n",
        "    def __init__(self, type):\n",
        "        self.type = type\n",
        "\n",
        "    def display_type(self):\n",
        "        print(f\"Vehicle type: {self.type}\")\n",
        "\n",
        "# Derived class Car\n",
        "class Car(Vehicle):\n",
        "    def __init__(self, type, brand):\n",
        "        super().__init__(type)  # Calling the constructor of Vehicle\n",
        "        self.brand = brand\n",
        "\n",
        "    def display_brand(self):\n",
        "        print(f\"Car brand: {self.brand}\")\n",
        "\n",
        "# Further derived class ElectricCar\n",
        "class ElectricCar(Car):\n",
        "    def __init__(self, type, brand, battery):\n",
        "        super().__init__(type, brand)  # Calling the constructor of Car\n",
        "        self.battery = battery\n",
        "\n",
        "    def display_battery(self):\n",
        "        print(f\"Battery capacity: {self.battery} kWh\")\n",
        "\n",
        "# Create an instance of ElectricCar\n",
        "electric_car = ElectricCar(\"Electric\", \"Tesla\", 75)\n",
        "electric_car.display_type()   # Output: Vehicle type: Electric\n",
        "electric_car.display_brand()  # Output: Car brand: Tesla\n",
        "electric_car.display_battery()  # Output: Battery capacity: 75 kWh\n"
      ],
      "metadata": {
        "colab": {
          "base_uri": "https://localhost:8080/"
        },
        "id": "PYORPRpcSzvt",
        "outputId": "f4f5e9e9-a261-4dd3-832d-26c8580e231f"
      },
      "execution_count": 5,
      "outputs": [
        {
          "output_type": "stream",
          "name": "stdout",
          "text": [
            "Vehicle type: Electric\n",
            "Car brand: Tesla\n",
            "Battery capacity: 75 kWh\n"
          ]
        }
      ]
    },
    {
      "cell_type": "code",
      "source": [
        "#4.Demonstrate polymorphism by creating a base class Bird with a method fly(). Create two derived classes Sparrow and Penguin that override the fly() method.\n",
        "# Base class\n",
        "class Bird:\n",
        "    def fly(self):\n",
        "        print(\"Bird flies in the sky\")\n",
        "\n",
        "# Derived class Sparrow\n",
        "class Sparrow(Bird):\n",
        "    def fly(self):\n",
        "        print(\"Sparrow flies short distances\")\n",
        "\n",
        "# Derived class Penguin\n",
        "class Penguin(Bird):\n",
        "    def fly(self):\n",
        "        print(\"Penguin cannot fly\")\n",
        "\n",
        "# Create instances and call the fly method\n",
        "bird = Bird()\n",
        "bird.fly()  # Output: Bird flies in the sky\n",
        "\n",
        "sparrow = Sparrow()\n",
        "sparrow.fly()  # Output: Sparrow flies short distances\n",
        "\n",
        "penguin = Penguin()\n",
        "penguin.fly()  # Output: Penguin cannot fly\n",
        "\n"
      ],
      "metadata": {
        "colab": {
          "base_uri": "https://localhost:8080/"
        },
        "id": "r_gzeCScTDzi",
        "outputId": "43db9147-18fd-4853-a816-1de44926ac27"
      },
      "execution_count": 6,
      "outputs": [
        {
          "output_type": "stream",
          "name": "stdout",
          "text": [
            "Bird flies in the sky\n",
            "Sparrow flies short distances\n",
            "Penguin cannot fly\n"
          ]
        }
      ]
    },
    {
      "cell_type": "code",
      "source": [
        "#5.Write a program to demonstrate encapsulation by creating a class BankAccount with private attributes balance and methods to deposit, withdraw, and check balance.\n",
        "class BankAccount:\n",
        "    def __init__(self, initial_balance=0):\n",
        "        self.__balance = initial_balance  # Private attribute\n",
        "\n",
        "    # Method to deposit money\n",
        "    def deposit(self, amount):\n",
        "        if amount > 0:\n",
        "            self.__balance += amount\n",
        "            print(f\"Deposited: {amount}\")\n",
        "        else:\n",
        "            print(\"Deposit amount must be positive.\")\n",
        "\n",
        "    # Method to withdraw money\n",
        "    def withdraw(self, amount):\n",
        "        if 0 < amount <= self.__balance:\n",
        "            self.__balance -= amount\n",
        "            print(f\"Withdrew: {amount}\")\n",
        "        else:\n",
        "            print(\"Invalid withdrawal amount.\")\n",
        "\n",
        "    # Method to check balance\n",
        "    def check_balance(self):\n",
        "        print(f\"Current balance: {self.__balance}\")\n",
        "\n",
        "# Create an instance of BankAccount\n",
        "account = BankAccount(1000)\n",
        "\n",
        "# Checking initial balance\n",
        "account.check_balance()  # Output: Current balance: 1000\n",
        "\n",
        "# Depositing money\n",
        "account.deposit(500)  # Output: Deposited: 500\n",
        "account.check_balance()  # Output: Current balance: 1500\n",
        "\n",
        "# Withdrawing money\n",
        "account.withdraw(200)  # Output: Withdrew: 200\n",
        "account.check_balance()  # Output: Current balance: 1300\n",
        "\n",
        "# Attempting an invalid withdrawal\n",
        "account.withdraw(1500)  # Output: Invalid withdrawal amount.\n"
      ],
      "metadata": {
        "colab": {
          "base_uri": "https://localhost:8080/"
        },
        "id": "HRIy2Cn5TM28",
        "outputId": "0467a1e8-49aa-4c69-84f2-e0cecc9a8a87"
      },
      "execution_count": 7,
      "outputs": [
        {
          "output_type": "stream",
          "name": "stdout",
          "text": [
            "Current balance: 1000\n",
            "Deposited: 500\n",
            "Current balance: 1500\n",
            "Withdrew: 200\n",
            "Current balance: 1300\n",
            "Invalid withdrawal amount.\n"
          ]
        }
      ]
    },
    {
      "cell_type": "code",
      "source": [
        "#6. Demonstrate runtime polymorphism using a method play() in a base class Instrument. Derive classes Guitar and Piano that implement their own version of play().\n",
        "# Base class\n",
        "class Instrument:\n",
        "    def play(self):\n",
        "        print(\"Instrument is playing\")\n",
        "\n",
        "# Derived class Guitar\n",
        "class Guitar(Instrument):\n",
        "    def play(self):  # Method overriding\n",
        "        print(\"Guitar is playing\")\n",
        "\n",
        "# Derived class Piano\n",
        "class Piano(Instrument):\n",
        "    def play(self):  # Method overriding\n",
        "        print(\"Piano is playing\")\n",
        "\n",
        "# Create instances of Guitar and Piano\n",
        "instrument1 = Guitar()\n",
        "instrument2 = Piano()\n",
        "\n",
        "# Demonstrate runtime polymorphism\n",
        "def play_instrument(instrument):\n",
        "    instrument.play()\n",
        "\n",
        "# Call play() on different instruments\n",
        "play_instrument(instrument1)  # Output: Guitar is playing\n",
        "play_instrument(instrument2)  # Output: Piano is playing\n"
      ],
      "metadata": {
        "colab": {
          "base_uri": "https://localhost:8080/"
        },
        "id": "0hcxSacCTY4t",
        "outputId": "e06cab20-25d9-48a2-8061-5f3354a5b193"
      },
      "execution_count": 8,
      "outputs": [
        {
          "output_type": "stream",
          "name": "stdout",
          "text": [
            "Guitar is playing\n",
            "Piano is playing\n"
          ]
        }
      ]
    },
    {
      "cell_type": "code",
      "source": [
        "#7.Create a class MathOperations with a class method add_numbers() to add two numbers and a static method subtract_numbers() to subtract two numbers.\n",
        "class MathOperations:\n",
        "    @classmethod\n",
        "    def add_numbers(cls, num1, num2):\n",
        "        return num1 + num2\n",
        "\n",
        "    @staticmethod\n",
        "    def subtract_numbers(num1, num2):\n",
        "        return num1 - num2\n",
        "\n",
        "# Create an instance of MathOperations\n",
        "math_ops = MathOperations()\n",
        "\n",
        "# Using the class method to add numbers\n",
        "sum_result = math_ops.add_numbers(10, 5)\n",
        "print(f\"Sum: {sum_result}\")  # Output: Sum: 15\n",
        "\n",
        "# Using the static method to subtract numbers\n",
        "difference_result = MathOperations.subtract_numbers(10, 5)\n",
        "print(f\"Difference: {difference_result}\")  # Output: Difference: 5\n"
      ],
      "metadata": {
        "colab": {
          "base_uri": "https://localhost:8080/"
        },
        "id": "UhDjEKCtTg8E",
        "outputId": "8cb9c4c8-8bc3-4b32-925a-ad2171bb9a42"
      },
      "execution_count": 9,
      "outputs": [
        {
          "output_type": "stream",
          "name": "stdout",
          "text": [
            "Sum: 15\n",
            "Difference: 5\n"
          ]
        }
      ]
    },
    {
      "cell_type": "code",
      "source": [
        "#8.Implement a class Person with a class method to count the total number of persons created.\n",
        "class Person:\n",
        "    # Class variable to keep track of the count\n",
        "    total_persons = 0\n",
        "\n",
        "    def __init__(self, name, age):\n",
        "        self.name = name\n",
        "        self.age = age\n",
        "        Person.total_persons += 1  # Increment the count when a new person is created\n",
        "\n",
        "    @classmethod\n",
        "    def get_total_persons(cls):\n",
        "        return cls.total_persons\n",
        "\n",
        "# Creating instances of Person\n",
        "person1 = Person(\"Alice\", 30)\n",
        "person2 = Person(\"Bob\", 25)\n",
        "person3 = Person(\"Charlie\", 35)\n",
        "\n",
        "# Calling the class method to get the total number of persons created\n",
        "print(f\"Total persons created: {Person.get_total_persons()}\")  # Output: Total persons created: 3\n"
      ],
      "metadata": {
        "colab": {
          "base_uri": "https://localhost:8080/"
        },
        "id": "7SIBmi8wTqcS",
        "outputId": "d7c1609d-851a-470a-8e6b-9d0402bfd34c"
      },
      "execution_count": 10,
      "outputs": [
        {
          "output_type": "stream",
          "name": "stdout",
          "text": [
            "Total persons created: 3\n"
          ]
        }
      ]
    },
    {
      "cell_type": "code",
      "source": [
        "#9.Write a class Fraction with attributes numerator and denominator. Override the str method to display the fraction as \"numerator/denominator\".\n",
        "class Fraction:\n",
        "    def __init__(self, numerator, denominator):\n",
        "        self.numerator = numerator\n",
        "        self.denominator = denominator\n",
        "\n",
        "    def __str__(self):\n",
        "        return f\"{self.numerator}/{self.denominator}\"\n",
        "\n",
        "# Create an instance of Fraction\n",
        "fraction = Fraction(3, 4)\n",
        "\n",
        "# Print the fraction\n",
        "print(fraction)  # Output: 3/4\n"
      ],
      "metadata": {
        "colab": {
          "base_uri": "https://localhost:8080/"
        },
        "id": "xNxmmSIUTxGD",
        "outputId": "045d1899-4a20-4333-b635-f7cf1f0fd088"
      },
      "execution_count": 11,
      "outputs": [
        {
          "output_type": "stream",
          "name": "stdout",
          "text": [
            "3/4\n"
          ]
        }
      ]
    },
    {
      "cell_type": "code",
      "source": [
        "#10.Demonstrate operator overloading by creating a class Vector and overriding the add method to add two vectors.\n",
        "class Vector:\n",
        "    def __init__(self, x, y):\n",
        "        self.x = x\n",
        "        self.y = y\n",
        "\n",
        "    def __add__(self, other):\n",
        "        if isinstance(other, Vector):\n",
        "            return Vector(self.x + other.x, self.y + other.y)\n",
        "        return NotImplemented\n",
        "\n",
        "    def __str__(self):\n",
        "        return f\"({self.x}, {self.y})\"\n",
        "\n",
        "# Creating two vector objects\n",
        "v1 = Vector(3, 4)\n",
        "v2 = Vector(1, 2)\n",
        "\n",
        "# Adding two vectors using the overloaded + operator\n",
        "result = v1 + v2\n",
        "\n",
        "# Printing the result\n",
        "print(result)  # Output: (4, 6)\n",
        "\n"
      ],
      "metadata": {
        "colab": {
          "base_uri": "https://localhost:8080/"
        },
        "id": "6cgveZ_hT5Nw",
        "outputId": "9be21af9-da90-4074-b4ff-11ea3b3f09bc"
      },
      "execution_count": 12,
      "outputs": [
        {
          "output_type": "stream",
          "name": "stdout",
          "text": [
            "(4, 6)\n"
          ]
        }
      ]
    },
    {
      "cell_type": "code",
      "source": [
        "#11. Create a class Person with attributes name and age. Add a method greet() that prints \"Hello, my name is {name} and I am {age} years old.\n",
        "\n",
        "class Person:\n",
        "    def __init__(self, name, age):\n",
        "        self.name = name\n",
        "        self.age = age\n",
        "\n",
        "    def greet(self):\n",
        "        print(f\"Hello, my name is {self.name} and I am {self.age} years old.\")\n",
        "\n",
        "# Creating an instance of Person\n",
        "person1 = Person(\"Alice\", 30)\n",
        "\n",
        "# Calling the greet method\n",
        "person1.greet()  # Output: Hello, my name is Alice and I am 30 years old.\n"
      ],
      "metadata": {
        "colab": {
          "base_uri": "https://localhost:8080/"
        },
        "id": "H4nYWQSvT_5t",
        "outputId": "0f095c4f-1633-4bc7-f01a-71c73e6901e4"
      },
      "execution_count": 13,
      "outputs": [
        {
          "output_type": "stream",
          "name": "stdout",
          "text": [
            "Hello, my name is Alice and I am 30 years old.\n"
          ]
        }
      ]
    },
    {
      "cell_type": "code",
      "source": [
        "#12. Implement a class Student with attributes name and grades. Create a method average_grade() to compute the average of the grades.\n",
        "class Student:\n",
        "    def __init__(self, name, grades):\n",
        "        self.name = name\n",
        "        self.grades = grades  # List of grades\n",
        "\n",
        "    def average_grade(self):\n",
        "        if self.grades:\n",
        "            return sum(self.grades) / len(self.grades)\n",
        "        return 0  # Return 0 if no grades are present\n",
        "\n",
        "# Creating an instance of Student\n",
        "student1 = Student(\"Alice\", [85, 90, 78, 92, 88])\n",
        "\n",
        "# Calculating and printing the average grade\n",
        "print(f\"{student1.name}'s average grade: {student1.average_grade():.2f}\")\n",
        "# Output: Alice's average grade: 86.60\n"
      ],
      "metadata": {
        "colab": {
          "base_uri": "https://localhost:8080/"
        },
        "id": "Ixuz-t8WUTkx",
        "outputId": "1a73cdba-4827-48e8-e3f9-c41f7a5e0674"
      },
      "execution_count": 14,
      "outputs": [
        {
          "output_type": "stream",
          "name": "stdout",
          "text": [
            "Alice's average grade: 86.60\n"
          ]
        }
      ]
    },
    {
      "cell_type": "code",
      "source": [
        "#13.Create a class Rectangle with methods set_dimensions() to set the dimensions and area() to calculate the area.\n",
        "class Rectangle:\n",
        "    def __init__(self, length=0, width=0):\n",
        "        self.length = length\n",
        "        self.width = width\n",
        "\n",
        "    def set_dimensions(self, length, width):\n",
        "        self.length = length\n",
        "        self.width = width\n",
        "\n",
        "    def area(self):\n",
        "        return self.length * self.width\n",
        "\n",
        "# Creating an instance of Rectangle\n",
        "rect = Rectangle()\n",
        "\n",
        "# Setting dimensions\n",
        "rect.set_dimensions(5, 10)\n",
        "\n",
        "# Calculating and printing the area\n",
        "print(f\"Area of the rectangle: {rect.area()}\")\n",
        "# Output: Area of the rectangle: 50\n"
      ],
      "metadata": {
        "colab": {
          "base_uri": "https://localhost:8080/"
        },
        "id": "uS1-DuHAUbu6",
        "outputId": "dbd187c5-4013-4f5b-9b37-219ae25cacbf"
      },
      "execution_count": 15,
      "outputs": [
        {
          "output_type": "stream",
          "name": "stdout",
          "text": [
            "Area of the rectangle: 50\n"
          ]
        }
      ]
    },
    {
      "cell_type": "code",
      "source": [
        "#14. Create a class Employee with a method calculate_salary() that computes the salary based on hours worked and hourly rate. Create a derived class Manager that adds a bonus to the salary.\n",
        "class Employee:\n",
        "    def __init__(self, name, hours_worked, hourly_rate):\n",
        "        self.name = name\n",
        "        self.hours_worked = hours_worked\n",
        "        self.hourly_rate = hourly_rate\n",
        "\n",
        "    def calculate_salary(self):\n",
        "        return self.hours_worked * self.hourly_rate\n",
        "\n",
        "class Manager(Employee):\n",
        "    def __init__(self, name, hours_worked, hourly_rate, bonus):\n",
        "        super().__init__(name, hours_worked, hourly_rate)\n",
        "        self.bonus = bonus\n",
        "\n",
        "    def calculate_salary(self):\n",
        "        return super().calculate_salary() + self.bonus\n",
        "\n",
        "# Creating an Employee instance\n",
        "employee = Employee(\"Alice\", 40, 20)\n",
        "print(f\"{employee.name}'s salary: ${employee.calculate_salary()}\")  # Output: Alice's salary: $800\n",
        "\n",
        "# Creating a Manager instance\n",
        "manager = Manager(\"Bob\", 40, 30, 500)\n",
        "print(f\"{manager.name}'s salary: ${manager.calculate_salary()}\")  # Output: Bob's salary: $1700\n"
      ],
      "metadata": {
        "colab": {
          "base_uri": "https://localhost:8080/"
        },
        "id": "sylnEvD4UogT",
        "outputId": "4529b9af-dbda-4895-f47b-632a40336370"
      },
      "execution_count": 16,
      "outputs": [
        {
          "output_type": "stream",
          "name": "stdout",
          "text": [
            "Alice's salary: $800\n",
            "Bob's salary: $1700\n"
          ]
        }
      ]
    },
    {
      "cell_type": "code",
      "source": [
        "#15.Create a class Product with attributes name, price, and quantity. Implement a method total_price() that calculates the total price of the product.\n",
        "class Product:\n",
        "    def __init__(self, name, price, quantity):\n",
        "        self.name = name\n",
        "        self.price = price\n",
        "        self.quantity = quantity\n",
        "\n",
        "    def total_price(self):\n",
        "        return self.price * self.quantity\n",
        "\n",
        "# Creating an instance of Product\n",
        "product1 = Product(\"Laptop\", 800, 2)\n",
        "\n",
        "# Calculating and printing the total price\n",
        "print(f\"Total price for {product1.quantity} {product1.name}(s): ${product1.total_price()}\")\n",
        "# Output: Total price for 2 Laptop(s): $1600\n"
      ],
      "metadata": {
        "colab": {
          "base_uri": "https://localhost:8080/"
        },
        "id": "ED4LMjNkU3X2",
        "outputId": "c65f58ee-a8f7-4a96-e3ee-55c30a511d64"
      },
      "execution_count": 18,
      "outputs": [
        {
          "output_type": "stream",
          "name": "stdout",
          "text": [
            "Total price for 2 Laptop(s): $1600\n"
          ]
        }
      ]
    },
    {
      "cell_type": "code",
      "source": [
        "#16.Create a class Animal with an abstract method sound(). Create two derived classes Cow and Sheep that implement the sound() method.\n",
        "from abc import ABC, abstractmethod\n",
        "\n",
        "class Animal(ABC):\n",
        "    @abstractmethod\n",
        "    def sound(self):\n",
        "        pass\n",
        "\n",
        "class Cow(Animal):\n",
        "    def sound(self):\n",
        "        return \"Moo!\"\n",
        "\n",
        "class Sheep(Animal):\n",
        "    def sound(self):\n",
        "        return \"Baa!\"\n",
        "\n",
        "# Creating instances of Cow and Sheep\n",
        "cow = Cow()\n",
        "sheep = Sheep()\n",
        "\n",
        "# Calling the sound method\n",
        "print(f\"Cow says: {cow.sound()}\")   # Output: Cow says: Moo!\n",
        "print(f\"Sheep says: {sheep.sound()}\") # Output: Sheep says: Baa!\n"
      ],
      "metadata": {
        "colab": {
          "base_uri": "https://localhost:8080/"
        },
        "id": "muENMWTrVHUB",
        "outputId": "d945ab24-d2e0-46ab-f2c4-d13bb45cf5b3"
      },
      "execution_count": 19,
      "outputs": [
        {
          "output_type": "stream",
          "name": "stdout",
          "text": [
            "Cow says: Moo!\n",
            "Sheep says: Baa!\n"
          ]
        }
      ]
    },
    {
      "cell_type": "code",
      "source": [
        "#17.Create a class Book with attributes title, author, and year_published. Add a method get_book_info() that returns a formatted string with the book's details.\n",
        "class Book:\n",
        "    def __init__(self, title, author, year_published):\n",
        "        self.title = title\n",
        "        self.author = author\n",
        "        self.year_published = year_published\n",
        "\n",
        "    def get_book_info(self):\n",
        "        return f\"'{self.title}' by {self.author}, published in {self.year_published}.\"\n",
        "\n",
        "# Creating an instance of Book\n",
        "book1 = Book(\"To Kill a Mockingbird\", \"Harper Lee\", 1960)\n",
        "\n",
        "# Printing book details\n",
        "print(book1.get_book_info())\n",
        "# Output: 'To Kill a Mockingbird' by Harper Lee, published in 1960.\n",
        "\n"
      ],
      "metadata": {
        "colab": {
          "base_uri": "https://localhost:8080/"
        },
        "id": "nw9AwULdVPjf",
        "outputId": "1bc37124-b738-4263-95f3-30465a31d3db"
      },
      "execution_count": 20,
      "outputs": [
        {
          "output_type": "stream",
          "name": "stdout",
          "text": [
            "'To Kill a Mockingbird' by Harper Lee, published in 1960.\n"
          ]
        }
      ]
    },
    {
      "cell_type": "code",
      "source": [
        "#18. Create a class House with attributes address and price. Create a derived class Mansion that adds an attribute number_of_rooms.\n",
        "class House:\n",
        "    def __init__(self, address, price):\n",
        "        self.address = address\n",
        "        self.price = price\n",
        "\n",
        "    def get_info(self):\n",
        "        return f\"House located at {self.address}, priced at ${self.price}.\"\n",
        "\n",
        "class Mansion(House):\n",
        "    def __init__(self, address, price, number_of_rooms):\n",
        "        super().__init__(address, price)\n",
        "        self.number_of_rooms = number_of_rooms\n",
        "\n",
        "    def get_info(self):\n",
        "        return f\"Mansion at {self.address} with {self.number_of_rooms} rooms, priced at ${self.price}.\"\n",
        "\n",
        "# Creating an instance of House\n",
        "house = House(\"123 Main St\", 250000)\n",
        "print(house.get_info())\n",
        "# Output: House located at 123 Main St, priced at $250000.\n",
        "\n",
        "# Creating an instance of Mansion\n",
        "mansion = Mansion(\"456 Luxury Lane\", 5000000, 15)\n",
        "print(mansion.get_info())\n",
        "# Output: Mansion at 456 Luxury Lane with 15 rooms, priced at $5000000.\n"
      ],
      "metadata": {
        "colab": {
          "base_uri": "https://localhost:8080/"
        },
        "id": "UD98-FcEVZQV",
        "outputId": "b992b6ef-169f-41c3-88ee-15907f03f8fe"
      },
      "execution_count": 21,
      "outputs": [
        {
          "output_type": "stream",
          "name": "stdout",
          "text": [
            "House located at 123 Main St, priced at $250000.\n",
            "Mansion at 456 Luxury Lane with 15 rooms, priced at $5000000.\n"
          ]
        }
      ]
    }
  ]
}