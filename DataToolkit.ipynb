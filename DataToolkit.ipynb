{
  "nbformat": 4,
  "nbformat_minor": 0,
  "metadata": {
    "colab": {
      "provenance": []
    },
    "kernelspec": {
      "name": "python3",
      "display_name": "Python 3"
    },
    "language_info": {
      "name": "python"
    }
  },
  "cells": [
    {
      "cell_type": "code",
      "execution_count": null,
      "metadata": {
        "id": "ANNovULoumpo"
      },
      "outputs": [],
      "source": [
        "#1.What is NumPy, and why is it widely used in Python?\n",
        "Ans:\n",
        "NumPy (Numerical Python) is a powerful library for numerical computing in Python. It provides multi-dimensional arrays (`ndarray`) that are faster and more memory-efficient than\n",
        "Python lists. NumPy supports mathematical functions like linear algebra, statistics, and Fourier transforms. It uses vectorization, avoiding slow Python loops, and features\n",
        "broadcasting for efficient operations on differently shaped arrays. It integrates seamlessly with Pandas, SciPy, and TensorFlow and allows interfacing with C and Fortran for high-\n",
        "performance computing. Example: multiplying a NumPy array by 2 applies the operation to all elements instantly. Its speed and efficiency make it essential for data science and AI."
      ]
    },
    {
      "cell_type": "code",
      "source": [
        "#2.How does broadcasting work in NumPy?\n",
        "Ans:\n",
        "Broadcasting enables element-wise operations on arrays of different shapes without explicit loops. NumPy automatically expands smaller arrays to match larger ones based on shape\n",
        "compatibility rules: dimensions must be equal or one must be **1** (stretched). Example: adding a scalar to an array extends the scalar to all elements. A `(2,3)` array plus a\n",
        "`(1,3)` array expands to `(2,3)`. It optimizes performance by avoiding redundant computations and memory usage. However, incompatible shapes cause errors. Broadcasting is widely\n",
        "used in data science, AI, and numerical computing for efficient vectorized operations, making NumPy highly powerful and scalable."
      ],
      "metadata": {
        "id": "RfS-Ew-Eu9U6"
      },
      "execution_count": null,
      "outputs": []
    },
    {
      "cell_type": "code",
      "source": [
        "#3.What is a Pandas DataFrame?\n",
        "Ans:A Pandas DataFrame is a two-dimensional, labeled data structure like an Excel table. It stores data in rows and columns, supporting different types (int, float, string). It\n",
        "allows indexing, filtering, sorting, and handling missing data. Example: df = pd.DataFrame({\"Name\": [\"Alice\", \"Bob\"], \"Age\": [25, 30]}) creates a table with columns Name and Age.\n",
        "Pandas integrates with NumPy and Matplotlib, making it essential for data science."
      ],
      "metadata": {
        "id": "omrDJjJMvOlP"
      },
      "execution_count": null,
      "outputs": []
    },
    {
      "cell_type": "code",
      "source": [
        "#4.Explain the use of the groupby() method in Pandas.\n",
        "Ans:\n",
        "The groupby() method in Pandas groups data based on one or more columns and applies aggregate functions like sum(), mean(), and count(). It is useful for data analysis, summarization,\n",
        "and filtering. Example: df.groupby(\"Category\")[\"Sales\"].sum() calculates total sales per category. If df has Category as [\"A\", \"B\", \"A\", \"B\"] and Sales as [100, 200, 150, 250],\n",
        "grouping by Category gives A: 250, B: 450. It helps in analyzing large datasets, performing calculations efficiently, and handling categorical data. Widely used in finance, marketing,\n",
        "and AI for insights."
      ],
      "metadata": {
        "id": "YHi4Aoi6vgYO"
      },
      "execution_count": null,
      "outputs": []
    },
    {
      "cell_type": "code",
      "source": [
        "#5.Why is Seaborn preferred for statistical visualizations?\n",
        "Ans:\n",
        "Seaborn is preferred for statistical visualizations because it provides beautiful, easy-to-read graphs with minimal code. It integrates well with Pandas, handles missing data\n",
        "automatically, and offers built-in statistical functions like regression plots and KDE plots. Its default aesthetics are more visually appealing than Matplotlib, and it simplifies\n",
        "complex visualizations like box plots, violin plots, and heatmaps. Example: sns.boxplot(x=\"day\", y=\"total_bill\", data=tips) creates a categorized box plot. Seaborn is widely used in\n",
        "data science, AI, and finance to explore trends and relationships efficiently."
      ],
      "metadata": {
        "id": "wYWnv8OhvvxX"
      },
      "execution_count": null,
      "outputs": []
    },
    {
      "cell_type": "code",
      "source": [
        "#6.What are the differences between NumPy arrays and Python lists?\n",
        "Ans:\n",
        "NumPy arrays are faster and more memory-efficient than Python lists because they use fixed data types and vectorized operations. Lists store elements as objects with pointers,\n",
        "making them slower. NumPy arrays support advanced mathematical functions, while lists require loops for element-wise operations. Arrays are homogeneous (one data type), whereas\n",
        "lists can store mixed types. Example: np.array([1, 2, 3]) * 2 gives [2, 4, 6], while [1, 2, 3] * 2 duplicates the list. NumPy is ideal for machine learning, AI, and scientific\n",
        "computing due to its efficiency."
      ],
      "metadata": {
        "id": "vT4j5WUjv9XO"
      },
      "execution_count": null,
      "outputs": []
    },
    {
      "cell_type": "code",
      "source": [
        "#7.What is a heatmap, and when should it be used?\n",
        "Ans:\n",
        "A heatmap is a data visualization that uses colors to represent values in a matrix, making patterns and relationships easier to interpret. It is commonly used for correlation\n",
        "analysis (e.g., finding relationships between variables in ML), data density representation (e.g., population heatmaps), and anomaly detection (e.g., fraud detection).\n",
        "Example: sns.heatmap(data, annot=True, cmap=\"coolwarm\") creates a heatmap in Seaborn. It is widely used in finance, AI, bioinformatics, and marketing to analyze trends and outliers\n",
        "efficiently."
      ],
      "metadata": {
        "id": "gQ_FXjSMwMJ7"
      },
      "execution_count": null,
      "outputs": []
    },
    {
      "cell_type": "code",
      "source": [
        "#8.What does the term “vectorized operation” mean in NumPy?\n",
        "Ans:\n",
        "A vectorized operation in NumPy means performing element-wise operations on arrays without explicit loops, making computations faster and more efficient using low-level optimizations\n",
        " (SIMD, BLAS). Unlike Python loops, which process elements one by one, vectorization applies operations to entire arrays at once.\n",
        " Example:\n",
        "import numpy as np\n",
        "arr = np.array([1, 2, 3, 4])\n",
        "result = arr * 2  # Vectorized multiplication\n",
        "print(result)  # Output: [2 4 6 8]"
      ],
      "metadata": {
        "id": "FbDDTNOawcq1"
      },
      "execution_count": null,
      "outputs": []
    },
    {
      "cell_type": "code",
      "source": [
        "#9.How does Matplotlib differ from Plotly?\n",
        "Ans:\n",
        "Matplotlib is a static plotting library, ideal for scientific and technical graphs, offering high customization but requiring more code. Plotly, on the other hand, is interactive,\n",
        "allowing zooming, hovering, and tooltips, making it great for dashboards and web applications. Matplotlib is faster for simple plots, while Plotly provides built-in themes and\n",
        "presets for easier styling.Use Matplotlib for reports and Plotly for interactive analysis."
      ],
      "metadata": {
        "id": "iO9DCtBAwvqJ"
      },
      "execution_count": null,
      "outputs": []
    },
    {
      "cell_type": "code",
      "source": [
        "#10.What is the significance of hierarchical indexing in Pandas?\n",
        "Ans:\n",
        "Hierarchical indexing (MultiIndex) in Pandas allows multiple levels of indexing, making it easier to represent and analyze complex datasets. It is useful for grouped data, time\n",
        "series, and multi-dimensional analysis while keeping data structured and efficient. It enables advanced slicing, grouping, and reshaping without redundancy.MultiIndex is widely\n",
        "used in finance, AI, and data analytics."
      ],
      "metadata": {
        "id": "YCfl0wqsxB7l"
      },
      "execution_count": null,
      "outputs": []
    },
    {
      "cell_type": "code",
      "source": [
        "#11.What is the role of Seaborn’s pairplot() function?\n",
        "Ans:\n",
        "Seaborn's pairplot() function visualizes relationships between numerical variables in a dataset by creating scatter plots for each pair and histograms for individual distributions.\n",
        "It helps in exploratory data analysis (EDA) to detect patterns, correlations, and outliers.\n",
        "Useful for multivariate analysis\n",
        "Color grouping with hue\n",
        "Ideal for data science & AI\n"
      ],
      "metadata": {
        "id": "y0gAhjeuxRHs"
      },
      "execution_count": null,
      "outputs": []
    },
    {
      "cell_type": "code",
      "source": [
        "#12.What is the purpose of the describe() function in Pandas?\n",
        "Ans:\n",
        "The describe() function in Pandas provides a statistical summary of numerical columns in a DataFrame. It returns key metrics like count, mean, standard deviation, min, max, and\n",
        "quartiles (25%, 50%, 75%), helping in exploratory data analysis (EDA). It is useful for understanding data distribution, detecting outliers, and identifying missing values. By\n",
        "default, it analyzes numerical data, but setting include=\"all\" also summarizes categorical columns. It is widely used in data science, AI, and business analytics to quickly assess\n",
        "dataset characteristics before further processing."
      ],
      "metadata": {
        "id": "rw1iW1Bzxk6D"
      },
      "execution_count": null,
      "outputs": []
    },
    {
      "cell_type": "code",
      "source": [
        "#13.Why is handling missing data important in Pandas?\n",
        "Ans:\n",
        "Handling missing data in Pandas is crucial for ensuring data integrity, accuracy, and reliable analysis. Missing values can skew results, introduce bias, or cause errors in machine\n",
        "learning models. Pandas provides methods like dropna() (removes missing values), fillna() (replaces them with specific values or statistics like mean/median), and interpolate()\n",
        "(estimates missing values). Proper handling prevents incorrect conclusions and model performance issues. Ignoring missing data can lead to misleading insights and unstable\n",
        "predictions. It is essential in data science, AI, and analytics to maintain data quality and consistency."
      ],
      "metadata": {
        "id": "YQhEFqfHyT5l"
      },
      "execution_count": null,
      "outputs": []
    },
    {
      "cell_type": "code",
      "source": [
        "#14.What are the benefits of using Plotly for data visualization?\n",
        "Ans:\n",
        "Plotly offers interactive, high-quality visualizations that enhance data exploration and storytelling. Unlike static libraries, it provides zooming, panning, and hovering for better\n",
        "insights. It supports 3D plots, geographic maps, and dashboards, making it ideal for web-based applications. With built-in themes and presets, it simplifies styling and requires\n",
        "less code than Matplotlib for interactive graphs. Plotly integrates well with Dash, enabling real-time data visualization. It is widely used in finance, AI, and business analytics\n",
        "for dynamic reports and presentations."
      ],
      "metadata": {
        "id": "tw2ov0ROyh3w"
      },
      "execution_count": null,
      "outputs": []
    },
    {
      "cell_type": "code",
      "source": [
        "#15.How does NumPy handle multidimensional arrays?\n",
        "Ans:\n",
        "NumPy handles multidimensional arrays using the ndarray object, which allows efficient storage and manipulation of n-dimensional data. It supports operations like reshaping\n",
        " (reshape()), slicing (arr[:,:]), and broadcasting, making computations faster and memory-efficient. Functions like np.newaxis and expand_dims() help modify dimensions, while axis\n",
        " parameters enable operations along specific dimensions. NumPy’s vectorized operations work seamlessly across multiple dimensions, reducing the need for loops. It is widely used in\n",
        " machine learning, AI, and scientific computing for handling large datasets and complex computations efficiently."
      ],
      "metadata": {
        "id": "5DyAA7OMyv4H"
      },
      "execution_count": null,
      "outputs": []
    },
    {
      "cell_type": "code",
      "source": [
        "#16.What is the role of Bokeh in data visualization?\n",
        "Ans:\n",
        "Bokeh is a Python library for creating interactive, web-based visualizations. Unlike Matplotlib, which produces static plots, Bokeh supports zooming, panning, tooltips, and real-time\n",
        "updates, making it ideal for dashboards and web applications. It integrates well with HTML, JavaScript, and Flask, enabling interactive data exploration without requiring extra tools.\n",
        "Bokeh provides high-performance rendering for large datasets and supports scatter plots, bar charts, heatmaps, and maps. It is widely used in data science, finance, and business\n",
        "analytics to build dynamic, browser-friendly visualizations."
      ],
      "metadata": {
        "id": "Ho-RJNE7zLCO"
      },
      "execution_count": null,
      "outputs": []
    },
    {
      "cell_type": "code",
      "source": [
        "#17.Explain the difference between apply() and map() in Pandas.\n",
        "Ans:\n",
        "The apply() and map() functions in Pandas are used for applying functions to data, but they differ in scope and flexibility. map() works only on Series and applies a function\n",
        "element-wise, making it ideal for simple transformations. In contrast, apply() works on both Series and DataFrames, allowing complex row-wise or column-wise operations. While map()\n",
        "is faster for single-column modifications, apply() is more versatile for aggregations and multi-column computations. Choosing between them depends on the complexity of the operation."
      ],
      "metadata": {
        "id": "jCz8peuizYjO"
      },
      "execution_count": null,
      "outputs": []
    },
    {
      "cell_type": "code",
      "source": [
        "#18.What are some advanced features of NumPy?\n",
        "Ans:\n",
        " Broadcasting - Enables element-wise operations on arrays of different shapes without explicit loops.\n",
        " Vectorized Operations - Perform fast computations without Python loops, improving performance.\n",
        " Masked Arrays - Handle missing or invalid values efficiently.\n",
        " Memory Mapping (memmap) - Works with large datasets without loading them entirely into RAM.\n",
        " Structured Array- Store heterogeneous data (like a DataFrame alternative).\n",
        " Linear Algebra (numpy.linalg) - Supports matrix operations, eigenvalues, and decomposition.\n",
        " FFT (Fast Fourier Transform) - Performs signal processing operations."
      ],
      "metadata": {
        "id": "voNPWSfvzltr"
      },
      "execution_count": null,
      "outputs": []
    },
    {
      "cell_type": "code",
      "source": [
        "#19.How does Pandas simplify time series analysis?\n",
        "Ans:\n",
        "Datetime Indexing - Supports DatetimeIndex for efficient time-based indexing and slicing.\n",
        "Resampling (resample()) - Aggregates data into different time intervals (e.g., daily to monthly).\n",
        "Shifting & Lagging (shift()) - Moves data forward or backward for trend analysis.\n",
        "Rolling Windows (rolling()) -Computes moving averages for smoothing time-series data.\n",
        "Time Zone Handling (tz_localize(), tz_convert()) - Manages different time zones easily."
      ],
      "metadata": {
        "id": "IpRXZvan0PxZ"
      },
      "execution_count": null,
      "outputs": []
    },
    {
      "cell_type": "code",
      "source": [
        "#20.What is the role of a pivot table in Pandas?\n",
        "Ans:\n",
        "A pivot table in Pandas is used for summarizing, aggregating, and analyzing data efficiently. It helps in restructuring datasets by grouping data based on one or more columns while\n",
        "applying aggregations like sum, mean, or count.\n",
        "Key Features:\n",
        " Summarizes large datasets efficiently.\n",
        " Applies custom aggregation functions (e.g., sum, mean).\n",
        " Handles missing data gracefully.\n",
        " Easily reshapes data for analysis."
      ],
      "metadata": {
        "id": "QRJAa4Fm2tad"
      },
      "execution_count": null,
      "outputs": []
    },
    {
      "cell_type": "code",
      "source": [
        "#21.Why is NumPy’s array slicing faster than Python’s list slicing?\n",
        "Ans:\n",
        "NumPy's array slicing is faster than Python’s list slicing due to memory efficiency, view-based slicing, and optimized implementation. Unlike Python lists, which store references to\n",
        "objects, NumPy arrays use contiguous memory allocation, reducing access time. Additionally, slicing in NumPy returns a view instead of a copy, minimizing memory overhead and\n",
        "improving performance. Since NumPy is implemented in C, it leverages low-level optimizations, making operations significantly faster. Furthermore, vectorized operations allow\n",
        "computations on entire slices at once, avoiding slow Python loops. These advantages make NumPy ideal for machine learning, AI, and large-scale data processing."
      ],
      "metadata": {
        "id": "D-CN0PQ125rL"
      },
      "execution_count": null,
      "outputs": []
    },
    {
      "cell_type": "code",
      "source": [
        "#22.What are some common use cases for Seaborn?\n",
        "Ans:\n",
        "Seaborn is widely used for statistical data visualization due to its beautiful, informative, and easy-to-use interface. It is commonly used for:\n",
        "\n",
        "Exploratory Data Analysis (EDA) - Quickly visualizing distributions, correlations, and patterns.\n",
        "Correlation Heatmaps - Identifying relationships between multiple variables.\n",
        "Categorical Data Visualization - Using bar plots, box plots, and violin plots for grouped analysis.\n",
        "Regression Analysis - Visualizing trends with regplot() and lmplot().\n",
        "Time Series Analysis - Plotting trends over time.\n",
        "Multi-plot Grids - Creating facet grids for complex comparisons."
      ],
      "metadata": {
        "id": "KQnlj9Qj3Lo8"
      },
      "execution_count": null,
      "outputs": []
    },
    {
      "cell_type": "code",
      "source": [],
      "metadata": {
        "id": "31j-RFw03YXF"
      },
      "execution_count": null,
      "outputs": []
    },
    {
      "cell_type": "code",
      "source": [
        "#PRACTICAL"
      ],
      "metadata": {
        "id": "uPsAXsSk3aAh"
      },
      "execution_count": null,
      "outputs": []
    },
    {
      "cell_type": "code",
      "source": [
        "#1. How do you create a 2D NumPy array and calculate the sum of each row?\n",
        "import numpy as np\n",
        "\n",
        "# Creating a 2D NumPy array\n",
        "arr = np.array([[1, 2, 3], [4, 5, 6], [7, 8, 9]])\n",
        "\n",
        "# Calculating row-wise sum\n",
        "row_sums = np.sum(arr, axis=1)\n",
        "\n",
        "print(row_sums)  # Output: [ 6 15 24 ]\n"
      ],
      "metadata": {
        "colab": {
          "base_uri": "https://localhost:8080/"
        },
        "id": "vzs3EoTB3bz3",
        "outputId": "f1d45fc0-b616-4356-fbb4-c83425174689"
      },
      "execution_count": 1,
      "outputs": [
        {
          "output_type": "stream",
          "name": "stdout",
          "text": [
            "[ 6 15 24]\n"
          ]
        }
      ]
    },
    {
      "cell_type": "code",
      "source": [
        "#2.Write a Pandas script to find the mean of a specific column in a DataFrame.\n",
        "import pandas as pd\n",
        "\n",
        "# Creating a sample DataFrame\n",
        "data = {\"Age\": [25, 30, 35, 40, 45], \"Salary\": [50000, 60000, 70000, 80000, 90000]}\n",
        "df = pd.DataFrame(data)\n",
        "\n",
        "# Calculating the mean of the \"Age\" column\n",
        "mean_age = df[\"Age\"].mean()\n",
        "\n",
        "print(\"Mean Age:\", mean_age)  # Output: 35.0\n"
      ],
      "metadata": {
        "colab": {
          "base_uri": "https://localhost:8080/"
        },
        "id": "zRTWbjTo3s59",
        "outputId": "90433382-755a-4073-ad51-535f07ebf10a"
      },
      "execution_count": 2,
      "outputs": [
        {
          "output_type": "stream",
          "name": "stdout",
          "text": [
            "Mean Age: 35.0\n"
          ]
        }
      ]
    },
    {
      "cell_type": "code",
      "source": [
        "#3.Create a scatter plot using Matplotlib.\n",
        "import matplotlib.pyplot as plt\n",
        "\n",
        "# Sample data\n",
        "x = [10, 20, 30, 40, 50]\n",
        "y = [3, 7, 2, 8, 5]\n",
        "\n",
        "# Creating the scatter plot\n",
        "plt.scatter(x, y, color=\"blue\", marker=\"o\", s=100, edgecolors=\"black\")\n",
        "\n",
        "# Adding labels and title\n",
        "plt.xlabel(\"X-axis\")\n",
        "plt.ylabel(\"Y-axis\")\n",
        "plt.title(\"Simple Scatter Plot\")\n",
        "\n",
        "# Display the plot\n",
        "plt.show()\n"
      ],
      "metadata": {
        "colab": {
          "base_uri": "https://localhost:8080/",
          "height": 472
        },
        "id": "d90UB4TT3zmU",
        "outputId": "4977c6ba-0bf2-4eac-d4fa-5e0b3630aec4"
      },
      "execution_count": 3,
      "outputs": [
        {
          "output_type": "display_data",
          "data": {
            "text/plain": [
              "<Figure size 640x480 with 1 Axes>"
            ],
            "image/png": "[encoded data removed]"
          },
          "metadata": {}
        }
      ]
    },
    {
      "cell_type": "code",
      "source": [
        "#4.How do you calculate the correlation matrix using Seaborn and visualize it with a heatmap.\n",
        "import pandas as pd\n",
        "import seaborn as sns\n",
        "import matplotlib.pyplot as plt\n",
        "\n",
        "# Sample DataFrame\n",
        "data = {\n",
        "    \"A\": [1, 2, 3, 4, 5],\n",
        "    \"B\": [2, 3, 4, 5, 6],\n",
        "    \"C\": [5, 4, 3, 2, 1]\n",
        "}\n",
        "df = pd.DataFrame(data)\n",
        "\n",
        "# Compute the correlation matrix\n",
        "corr_matrix = df.corr()\n",
        "\n",
        "# Create a heatmap\n",
        "sns.heatmap(corr_matrix, annot=True, cmap=\"coolwarm\", fmt=\".2f\", linewidths=0.5)\n",
        "\n",
        "# Show the plot\n",
        "plt.title(\"Correlation Matrix Heatmap\")\n",
        "plt.show()\n"
      ],
      "metadata": {
        "colab": {
          "base_uri": "https://localhost:8080/",
          "height": 452
        },
        "id": "2_4528Tx39an",
        "outputId": "babc1d8d-f723-419c-9580-40a11b4a10bc"
      },
      "execution_count": 5,
      "outputs": [
        {
          "output_type": "display_data",
          "data": {
            "text/plain": [
              "<Figure size 640x480 with 2 Axes>"
            ],
            "image/png": "[encoded data removed]"
          },
          "metadata": {}
        }
      ]
    },
    {
      "cell_type": "code",
      "source": [
        "#5.Generate a bar plot using Plotly.\n",
        "import plotly.express as px\n",
        "\n",
        "# Sample data\n",
        "data = {\"Category\": [\"A\", \"B\", \"C\", \"D\"], \"Values\": [10, 20, 15, 25]}\n",
        "\n",
        "# Creating a DataFrame\n",
        "import pandas as pd\n",
        "df = pd.DataFrame(data)\n",
        "\n",
        "# Generating the bar plot\n",
        "fig = px.bar(df, x=\"Category\", y=\"Values\", color=\"Category\", title=\"Bar Plot Example\")\n",
        "\n",
        "# Show the plot\n",
        "fig.show()\n"
      ],
      "metadata": {
        "colab": {
          "base_uri": "https://localhost:8080/",
          "height": 542
        },
        "id": "xSUavZxK4PEp",
        "outputId": "102a1aa4-ca3f-4f40-8521-517d84dd8970"
      },
      "execution_count": 6,
      "outputs": [
        {
          "output_type": "display_data",
          "data": {
            "text/html": [
              "<html>\n",
              "<head><meta charset=\"utf-8\" /></head>\n",
              "<body>\n",
              "    <div>            <script src=\"https://cdnjs.cloudflare.com/ajax/libs/mathjax/2.7.5/MathJax.js?config=TeX-AMS-MML_SVG\"></script><script type=\"text/javascript\">if (window.MathJax && window.MathJax.Hub && window.MathJax.Hub.Config) {window.MathJax.Hub.Config({SVG: {font: \"STIX-Web\"}});}</script>                <script type=\"text/javascript\">window.PlotlyConfig = {MathJaxConfig: 'local'};</script>\n",
              "        <script charset=\"utf-8\" src=\"https://cdn.plot.ly/plotly-2.35.2.min.js\"></script>                <div id=\"02f855bb-3103-48b6-9702-9643aca4bc61\" class=\"plotly-graph-div\" style=\"height:525px; width:100%;\"></div>            <script type=\"text/javascript\">                                    window.PLOTLYENV=window.PLOTLYENV || {};                                    if (document.getElementById(\"02f855bb-3103-48b6-9702-9643aca4bc61\")) {                    Plotly.newPlot(                        \"02f855bb-3103-48b6-9702-9643aca4bc61\",                        [{\"alignmentgroup\":\"True\",\"hovertemplate\":\"Category=%{x}\\u003cbr\\u003eValues=%{y}\\u003cextra\\u003e\\u003c\\u002fextra\\u003e\",\"legendgroup\":\"A\",\"marker\":{\"color\":\"#636efa\",\"pattern\":{\"shape\":\"\"}},\"name\":\"A\",\"offsetgroup\":\"A\",\"orientation\":\"v\",\"showlegend\":true,\"textposition\":\"auto\",\"x\":[\"A\"],\"xaxis\":\"x\",\"y\":[10],\"yaxis\":\"y\",\"type\":\"bar\"},{\"alignmentgroup\":\"True\",\"hovertemplate\":\"Category=%{x}\\u003cbr\\u003eValues=%{y}\\u003cextra\\u003e\\u003c\\u002fextra\\u003e\",\"legendgroup\":\"B\",\"marker\":{\"color\":\"#EF553B\",\"pattern\":{\"shape\":\"\"}},\"name\":\"B\",\"offsetgroup\":\"B\",\"orientation\":\"v\",\"showlegend\":true,\"textposition\":\"auto\",\"x\":[\"B\"],\"xaxis\":\"x\",\"y\":[20],\"yaxis\":\"y\",\"type\":\"bar\"},{\"alignmentgroup\":\"True\",\"hovertemplate\":\"Category=%{x}\\u003cbr\\u003eValues=%{y}\\u003cextra\\u003e\\u003c\\u002fextra\\u003e\",\"legendgroup\":\"C\",\"marker\":{\"color\":\"#00cc96\",\"pattern\":{\"shape\":\"\"}},\"name\":\"C\",\"offsetgroup\":\"C\",\"orientation\":\"v\",\"showlegend\":true,\"textposition\":\"auto\",\"x\":[\"C\"],\"xaxis\":\"x\",\"y\":[15],\"yaxis\":\"y\",\"type\":\"bar\"},{\"alignmentgroup\":\"True\",\"hovertemplate\":\"Category=%{x}\\u003cbr\\u003eValues=%{y}\\u003cextra\\u003e\\u003c\\u002fextra\\u003e\",\"legendgroup\":\"D\",\"marker\":{\"color\":\"#ab63fa\",\"pattern\":{\"shape\":\"\"}},\"name\":\"D\",\"offsetgroup\":\"D\",\"orientation\":\"v\",\"showlegend\":true,\"textposition\":\"auto\",\"x\":[\"D\"],\"xaxis\":\"x\",\"y\":[25],\"yaxis\":\"y\",\"type\":\"bar\"}],                        {\"template\":{\"data\":{\"histogram2dcontour\":[{\"type\":\"histogram2dcontour\",\"colorbar\":{\"outlinewidth\":0,\"ticks\":\"\"},\"colorscale\":[[0.0,\"#0d0887\"],[0.1111111111111111,\"#46039f\"],[0.2222222222222222,\"#7201a8\"],[0.3333333333333333,\"#9c179e\"],[0.4444444444444444,\"#bd3786\"],[0.5555555555555556,\"#d8576b\"],[0.6666666666666666,\"#ed7953\"],[0.7777777777777778,\"#fb9f3a\"],[0.8888888888888888,\"#fdca26\"],[1.0,\"#f0f921\"]]}],\"choropleth\":[{\"type\":\"choropleth\",\"colorbar\":{\"outlinewidth\":0,\"ticks\":\"\"}}],\"histogram2d\":[{\"type\":\"histogram2d\",\"colorbar\":{\"outlinewidth\":0,\"ticks\":\"\"},\"colorscale\":[[0.0,\"#0d0887\"],[0.1111111111111111,\"#46039f\"],[0.2222222222222222,\"#7201a8\"],[0.3333333333333333,\"#9c179e\"],[0.4444444444444444,\"#bd3786\"],[0.5555555555555556,\"#d8576b\"],[0.6666666666666666,\"#ed7953\"],[0.7777777777777778,\"#fb9f3a\"],[0.8888888888888888,\"#fdca26\"],[1.0,\"#f0f921\"]]}],\"heatmap\":[{\"type\":\"heatmap\",\"colorbar\":{\"outlinewidth\":0,\"ticks\":\"\"},\"colorscale\":[[0.0,\"#0d0887\"],[0.1111111111111111,\"#46039f\"],[0.2222222222222222,\"#7201a8\"],[0.3333333333333333,\"#9c179e\"],[0.4444444444444444,\"#bd3786\"],[0.5555555555555556,\"#d8576b\"],[0.6666666666666666,\"#ed7953\"],[0.7777777777777778,\"#fb9f3a\"],[0.8888888888888888,\"#fdca26\"],[1.0,\"#f0f921\"]]}],\"heatmapgl\":[{\"type\":\"heatmapgl\",\"colorbar\":{\"outlinewidth\":0,\"ticks\":\"\"},\"colorscale\":[[0.0,\"#0d0887\"],[0.1111111111111111,\"#46039f\"],[0.2222222222222222,\"#7201a8\"],[0.3333333333333333,\"#9c179e\"],[0.4444444444444444,\"#bd3786\"],[0.5555555555555556,\"#d8576b\"],[0.6666666666666666,\"#ed7953\"],[0.7777777777777778,\"#fb9f3a\"],[0.8888888888888888,\"#fdca26\"],[1.0,\"#f0f921\"]]}],\"contourcarpet\":[{\"type\":\"contourcarpet\",\"colorbar\":{\"outlinewidth\":0,\"ticks\":\"\"}}],\"contour\":[{\"type\":\"contour\",\"colorbar\":{\"outlinewidth\":0,\"ticks\":\"\"},\"colorscale\":[[0.0,\"#0d0887\"],[0.1111111111111111,\"#46039f\"],[0.2222222222222222,\"#7201a8\"],[0.3333333333333333,\"#9c179e\"],[0.4444444444444444,\"#bd3786\"],[0.5555555555555556,\"#d8576b\"],[0.6666666666666666,\"#ed7953\"],[0.7777777777777778,\"#fb9f3a\"],[0.8888888888888888,\"#fdca26\"],[1.0,\"#f0f921\"]]}],\"surface\":[{\"type\":\"surface\",\"colorbar\":{\"outlinewidth\":0,\"ticks\":\"\"},\"colorscale\":[[0.0,\"#0d0887\"],[0.1111111111111111,\"#46039f\"],[0.2222222222222222,\"#7201a8\"],[0.3333333333333333,\"#9c179e\"],[0.4444444444444444,\"#bd3786\"],[0.5555555555555556,\"#d8576b\"],[0.6666666666666666,\"#ed7953\"],[0.7777777777777778,\"#fb9f3a\"],[0.8888888888888888,\"#fdca26\"],[1.0,\"#f0f921\"]]}],\"mesh3d\":[{\"type\":\"mesh3d\",\"colorbar\":{\"outlinewidth\":0,\"ticks\":\"\"}}],\"scatter\":[{\"fillpattern\":{\"fillmode\":\"overlay\",\"size\":10,\"solidity\":0.2},\"type\":\"scatter\"}],\"parcoords\":[{\"type\":\"parcoords\",\"line\":{\"colorbar\":{\"outlinewidth\":0,\"ticks\":\"\"}}}],\"scatterpolargl\":[{\"type\":\"scatterpolargl\",\"marker\":{\"colorbar\":{\"outlinewidth\":0,\"ticks\":\"\"}}}],\"bar\":[{\"error_x\":{\"color\":\"#2a3f5f\"},\"error_y\":{\"color\":\"#2a3f5f\"},\"marker\":{\"line\":{\"color\":\"#E5ECF6\",\"width\":0.5},\"pattern\":{\"fillmode\":\"overlay\",\"size\":10,\"solidity\":0.2}},\"type\":\"bar\"}],\"scattergeo\":[{\"type\":\"scattergeo\",\"marker\":{\"colorbar\":{\"outlinewidth\":0,\"ticks\":\"\"}}}],\"scatterpolar\":[{\"type\":\"scatterpolar\",\"marker\":{\"colorbar\":{\"outlinewidth\":0,\"ticks\":\"\"}}}],\"histogram\":[{\"marker\":{\"pattern\":{\"fillmode\":\"overlay\",\"size\":10,\"solidity\":0.2}},\"type\":\"histogram\"}],\"scattergl\":[{\"type\":\"scattergl\",\"marker\":{\"colorbar\":{\"outlinewidth\":0,\"ticks\":\"\"}}}],\"scatter3d\":[{\"type\":\"scatter3d\",\"line\":{\"colorbar\":{\"outlinewidth\":0,\"ticks\":\"\"}},\"marker\":{\"colorbar\":{\"outlinewidth\":0,\"ticks\":\"\"}}}],\"scattermapbox\":[{\"type\":\"scattermapbox\",\"marker\":{\"colorbar\":{\"outlinewidth\":0,\"ticks\":\"\"}}}],\"scatterternary\":[{\"type\":\"scatterternary\",\"marker\":{\"colorbar\":{\"outlinewidth\":0,\"ticks\":\"\"}}}],\"scattercarpet\":[{\"type\":\"scattercarpet\",\"marker\":{\"colorbar\":{\"outlinewidth\":0,\"ticks\":\"\"}}}],\"carpet\":[{\"aaxis\":{\"endlinecolor\":\"#2a3f5f\",\"gridcolor\":\"white\",\"linecolor\":\"white\",\"minorgridcolor\":\"white\",\"startlinecolor\":\"#2a3f5f\"},\"baxis\":{\"endlinecolor\":\"#2a3f5f\",\"gridcolor\":\"white\",\"linecolor\":\"white\",\"minorgridcolor\":\"white\",\"startlinecolor\":\"#2a3f5f\"},\"type\":\"carpet\"}],\"table\":[{\"cells\":{\"fill\":{\"color\":\"#EBF0F8\"},\"line\":{\"color\":\"white\"}},\"header\":{\"fill\":{\"color\":\"#C8D4E3\"},\"line\":{\"color\":\"white\"}},\"type\":\"table\"}],\"barpolar\":[{\"marker\":{\"line\":{\"color\":\"#E5ECF6\",\"width\":0.5},\"pattern\":{\"fillmode\":\"overlay\",\"size\":10,\"solidity\":0.2}},\"type\":\"barpolar\"}],\"pie\":[{\"automargin\":true,\"type\":\"pie\"}]},\"layout\":{\"autotypenumbers\":\"strict\",\"colorway\":[\"#636efa\",\"#EF553B\",\"#00cc96\",\"#ab63fa\",\"#FFA15A\",\"#19d3f3\",\"#FF6692\",\"#B6E880\",\"#FF97FF\",\"#FECB52\"],\"font\":{\"color\":\"#2a3f5f\"},\"hovermode\":\"closest\",\"hoverlabel\":{\"align\":\"left\"},\"paper_bgcolor\":\"white\",\"plot_bgcolor\":\"#E5ECF6\",\"polar\":{\"bgcolor\":\"#E5ECF6\",\"angularaxis\":{\"gridcolor\":\"white\",\"linecolor\":\"white\",\"ticks\":\"\"},\"radialaxis\":{\"gridcolor\":\"white\",\"linecolor\":\"white\",\"ticks\":\"\"}},\"ternary\":{\"bgcolor\":\"#E5ECF6\",\"aaxis\":{\"gridcolor\":\"white\",\"linecolor\":\"white\",\"ticks\":\"\"},\"baxis\":{\"gridcolor\":\"white\",\"linecolor\":\"white\",\"ticks\":\"\"},\"caxis\":{\"gridcolor\":\"white\",\"linecolor\":\"white\",\"ticks\":\"\"}},\"coloraxis\":{\"colorbar\":{\"outlinewidth\":0,\"ticks\":\"\"}},\"colorscale\":{\"sequential\":[[0.0,\"#0d0887\"],[0.1111111111111111,\"#46039f\"],[0.2222222222222222,\"#7201a8\"],[0.3333333333333333,\"#9c179e\"],[0.4444444444444444,\"#bd3786\"],[0.5555555555555556,\"#d8576b\"],[0.6666666666666666,\"#ed7953\"],[0.7777777777777778,\"#fb9f3a\"],[0.8888888888888888,\"#fdca26\"],[1.0,\"#f0f921\"]],\"sequentialminus\":[[0.0,\"#0d0887\"],[0.1111111111111111,\"#46039f\"],[0.2222222222222222,\"#7201a8\"],[0.3333333333333333,\"#9c179e\"],[0.4444444444444444,\"#bd3786\"],[0.5555555555555556,\"#d8576b\"],[0.6666666666666666,\"#ed7953\"],[0.7777777777777778,\"#fb9f3a\"],[0.8888888888888888,\"#fdca26\"],[1.0,\"#f0f921\"]],\"diverging\":[[0,\"#8e0152\"],[0.1,\"#c51b7d\"],[0.2,\"#de77ae\"],[0.3,\"#f1b6da\"],[0.4,\"#fde0ef\"],[0.5,\"#f7f7f7\"],[0.6,\"#e6f5d0\"],[0.7,\"#b8e186\"],[0.8,\"#7fbc41\"],[0.9,\"#4d9221\"],[1,\"#276419\"]]},\"xaxis\":{\"gridcolor\":\"white\",\"linecolor\":\"white\",\"ticks\":\"\",\"title\":{\"standoff\":15},\"zerolinecolor\":\"white\",\"automargin\":true,\"zerolinewidth\":2},\"yaxis\":{\"gridcolor\":\"white\",\"linecolor\":\"white\",\"ticks\":\"\",\"title\":{\"standoff\":15},\"zerolinecolor\":\"white\",\"automargin\":true,\"zerolinewidth\":2},\"scene\":{\"xaxis\":{\"backgroundcolor\":\"#E5ECF6\",\"gridcolor\":\"white\",\"linecolor\":\"white\",\"showbackground\":true,\"ticks\":\"\",\"zerolinecolor\":\"white\",\"gridwidth\":2},\"yaxis\":{\"backgroundcolor\":\"#E5ECF6\",\"gridcolor\":\"white\",\"linecolor\":\"white\",\"showbackground\":true,\"ticks\":\"\",\"zerolinecolor\":\"white\",\"gridwidth\":2},\"zaxis\":{\"backgroundcolor\":\"#E5ECF6\",\"gridcolor\":\"white\",\"linecolor\":\"white\",\"showbackground\":true,\"ticks\":\"\",\"zerolinecolor\":\"white\",\"gridwidth\":2}},\"shapedefaults\":{\"line\":{\"color\":\"#2a3f5f\"}},\"annotationdefaults\":{\"arrowcolor\":\"#2a3f5f\",\"arrowhead\":0,\"arrowwidth\":1},\"geo\":{\"bgcolor\":\"white\",\"landcolor\":\"#E5ECF6\",\"subunitcolor\":\"white\",\"showland\":true,\"showlakes\":true,\"lakecolor\":\"white\"},\"title\":{\"x\":0.05},\"mapbox\":{\"style\":\"light\"}}},\"xaxis\":{\"anchor\":\"y\",\"domain\":[0.0,1.0],\"title\":{\"text\":\"Category\"},\"categoryorder\":\"array\",\"categoryarray\":[\"A\",\"B\",\"C\",\"D\"]},\"yaxis\":{\"anchor\":\"x\",\"domain\":[0.0,1.0],\"title\":{\"text\":\"Values\"}},\"legend\":{\"title\":{\"text\":\"Category\"},\"tracegroupgap\":0},\"title\":{\"text\":\"Bar Plot Example\"},\"barmode\":\"relative\"},                        {\"responsive\": true}                    ).then(function(){\n",
              "                            \n",
              "var gd = document.getElementById('02f855bb-3103-48b6-9702-9643aca4bc61');\n",
              "var x = new MutationObserver(function (mutations, observer) {{\n",
              "        var display = window.getComputedStyle(gd).display;\n",
              "        if (!display || display === 'none') {{\n",
              "            console.log([gd, 'removed!']);\n",
              "            Plotly.purge(gd);\n",
              "            observer.disconnect();\n",
              "        }}\n",
              "}});\n",
              "\n",
              "// Listen for the removal of the full notebook cells\n",
              "var notebookContainer = gd.closest('#notebook-container');\n",
              "if (notebookContainer) {{\n",
              "    x.observe(notebookContainer, {childList: true});\n",
              "}}\n",
              "\n",
              "// Listen for the clearing of the current output cell\n",
              "var outputEl = gd.closest('.output');\n",
              "if (outputEl) {{\n",
              "    x.observe(outputEl, {childList: true});\n",
              "}}\n",
              "\n",
              "                        })                };                            </script>        </div>\n",
              "</body>\n",
              "</html>"
            ]
          },
          "metadata": {}
        }
      ]
    },
    {
      "cell_type": "code",
      "source": [
        "#6.Create a DataFrame and add a new column based on an existing column.\n",
        "import pandas as pd\n",
        "\n",
        "# Creating a DataFrame\n",
        "data = {\"Name\": [\"Alice\", \"Bob\", \"Charlie\", \"David\"], \"Age\": [25, 30, 35, 40]}\n",
        "df = pd.DataFrame(data)\n",
        "\n",
        "# Adding a new column based on the 'Age' column\n",
        "df[\"Age Group\"] = df[\"Age\"].apply(lambda x: \"Young\" if x < 30 else \"Adult\")\n",
        "\n",
        "# Display the DataFrame\n",
        "print(df)\n"
      ],
      "metadata": {
        "colab": {
          "base_uri": "https://localhost:8080/"
        },
        "id": "Dc0tfwqh4YOh",
        "outputId": "3534fda5-4323-4e2f-9933-f73b12d67be4"
      },
      "execution_count": 7,
      "outputs": [
        {
          "output_type": "stream",
          "name": "stdout",
          "text": [
            "      Name  Age Age Group\n",
            "0    Alice   25     Young\n",
            "1      Bob   30     Adult\n",
            "2  Charlie   35     Adult\n",
            "3    David   40     Adult\n"
          ]
        }
      ]
    },
    {
      "cell_type": "code",
      "source": [
        "#7.Write a program to perform element-wise multiplication of two NumPy arrays.\n",
        "import numpy as np\n",
        "\n",
        "# Creating two NumPy arrays\n",
        "arr1 = np.array([1, 2, 3, 4, 5])\n",
        "arr2 = np.array([10, 20, 30, 40, 50])\n",
        "\n",
        "# Element-wise multiplication\n",
        "result = arr1 * arr2  # OR use np.multiply(arr1, arr2)\n",
        "\n",
        "# Display the result\n",
        "print(\"Element-wise Multiplication:\", result)\n"
      ],
      "metadata": {
        "colab": {
          "base_uri": "https://localhost:8080/"
        },
        "id": "uA-nG1o84ir8",
        "outputId": "99f55cc2-9555-4de6-ad50-a48a3246273a"
      },
      "execution_count": 8,
      "outputs": [
        {
          "output_type": "stream",
          "name": "stdout",
          "text": [
            "Element-wise Multiplication: [ 10  40  90 160 250]\n"
          ]
        }
      ]
    },
    {
      "cell_type": "code",
      "source": [
        "#8.Create a line plot with multiple lines using Matplotlib.\n",
        "import matplotlib.pyplot as plt\n",
        "\n",
        "# Sample data\n",
        "x = [1, 2, 3, 4, 5]\n",
        "y1 = [10, 15, 7, 10, 20]\n",
        "y2 = [5, 10, 15, 20, 25]\n",
        "\n",
        "# Plotting multiple lines\n",
        "plt.plot(x, y1, label=\"Line 1\", color=\"blue\", marker=\"o\")\n",
        "plt.plot(x, y2, label=\"Line 2\", color=\"red\", linestyle=\"dashed\", marker=\"s\")\n",
        "\n",
        "# Adding labels, title, and legend\n",
        "plt.xlabel(\"X-axis\")\n",
        "plt.ylabel(\"Y-axis\")\n",
        "plt.title(\"Line Plot with Multiple Lines\")\n",
        "plt.legend()\n",
        "\n",
        "# Show the plot\n",
        "plt.show()\n"
      ],
      "metadata": {
        "colab": {
          "base_uri": "https://localhost:8080/",
          "height": 472
        },
        "id": "PwrqtHWJ4ins",
        "outputId": "3d92a8cb-ab59-475e-d989-74c4c684dad2"
      },
      "execution_count": 9,
      "outputs": [
        {
          "output_type": "display_data",
          "data": {
            "text/plain": [
              "<Figure size 640x480 with 1 Axes>"
            ],
            "image/png": "[encoded data removed]"
          },
          "metadata": {}
        }
      ]
    },
    {
      "cell_type": "code",
      "source": [
        "#9.Generate a Pandas DataFrame and filter rows where a column value is greater than a threshold.\n",
        "import pandas as pd\n",
        "\n",
        "# Creating a DataFrame\n",
        "data = {\"Name\": [\"Alice\", \"Bob\", \"Charlie\", \"David\", \"Emma\"],\n",
        "        \"Age\": [25, 30, 35, 40, 22]}\n",
        "df = pd.DataFrame(data)\n",
        "\n",
        "# Filtering rows where Age > 30\n",
        "filtered_df = df[df[\"Age\"] > 30]\n",
        "\n",
        "# Display the filtered DataFrame\n",
        "print(filtered_df)\n"
      ],
      "metadata": {
        "colab": {
          "base_uri": "https://localhost:8080/"
        },
        "id": "TSXZpYnh4iPY",
        "outputId": "54bec6c6-0025-4aab-9e11-9f1367c220f0"
      },
      "execution_count": 10,
      "outputs": [
        {
          "output_type": "stream",
          "name": "stdout",
          "text": [
            "      Name  Age\n",
            "2  Charlie   35\n",
            "3    David   40\n"
          ]
        }
      ]
    },
    {
      "cell_type": "code",
      "source": [
        "#10.Create a histogram using Seaborn to visualize a distribution.\n",
        "import seaborn as sns\n",
        "import matplotlib.pyplot as plt\n",
        "import numpy as np\n",
        "\n",
        "# Generating sample data\n",
        "data = np.random.randn(1000)  # 1000 random values from a normal distribution\n",
        "\n",
        "# Creating the histogram\n",
        "sns.histplot(data, bins=30, kde=True, color=\"blue\")\n",
        "\n",
        "# Adding labels and title\n",
        "plt.xlabel(\"Value\")\n",
        "plt.ylabel(\"Frequency\")\n",
        "plt.title(\"Histogram with Density Curve\")\n",
        "\n",
        "# Show the plot\n",
        "plt.show()\n"
      ],
      "metadata": {
        "colab": {
          "base_uri": "https://localhost:8080/",
          "height": 472
        },
        "id": "tucwOu4z4h37",
        "outputId": "563c1470-c614-4811-9ff7-5f1f115007aa"
      },
      "execution_count": 11,
      "outputs": [
        {
          "output_type": "display_data",
          "data": {
            "text/plain": [
              "<Figure size 640x480 with 1 Axes>"
            ],
            "image/png": "[encoded data removed]"
          },
          "metadata": {}
        }
      ]
    },
    {
      "cell_type": "code",
      "source": [
        "#11.Perform matrix multiplication using NumPy.\n",
        "import numpy as np\n",
        "\n",
        "# Creating two matrices\n",
        "A = np.array([[1, 2], [3, 4]])\n",
        "B = np.array([[5, 6], [7, 8]])\n",
        "\n",
        "# Matrix multiplication\n",
        "result = np.dot(A, B)  # OR use A @ B OR np.matmul(A, B)\n",
        "\n",
        "# Display the result\n",
        "print(\"Matrix Multiplication Result:\\n\", result)\n"
      ],
      "metadata": {
        "colab": {
          "base_uri": "https://localhost:8080/"
        },
        "id": "xfNO0dlS5ElX",
        "outputId": "cfa4e4ab-f80f-4e01-f797-83b5fbd26cbe"
      },
      "execution_count": 12,
      "outputs": [
        {
          "output_type": "stream",
          "name": "stdout",
          "text": [
            "Matrix Multiplication Result:\n",
            " [[19 22]\n",
            " [43 50]]\n"
          ]
        }
      ]
    },
    {
      "cell_type": "code",
      "source": [
        "#12.Use Pandas to load a CSV file and display its first 5 rows\n",
        "import pandas as pd\n",
        "\n",
        "# Load the CSV file (replace 'data.csv' with your actual file path)\n",
        "df = pd.read_csv(\"/content/phishing_dataset.csv\")\n",
        "\n",
        "# Display the first 5 rows\n",
        "print(df.head())\n",
        "\n"
      ],
      "metadata": {
        "colab": {
          "base_uri": "https://localhost:8080/"
        },
        "id": "gJMznnai5Eaq",
        "outputId": "f1a0dceb-415f-4ef7-8536-af8a8e529001"
      },
      "execution_count": 14,
      "outputs": [
        {
          "output_type": "stream",
          "name": "stdout",
          "text": [
            "     FILENAME                                 URL  URLLength  \\\n",
            "0  521848.txt    https://www.southbankmosaics.com         31   \n",
            "1   31372.txt            https://www.uni-mainz.de         23   \n",
            "2  597387.txt      https://www.voicefmradio.co.uk         29   \n",
            "3  554095.txt         https://www.sfnmjournal.com         26   \n",
            "4  151578.txt  https://www.rewildingargentina.org         33   \n",
            "\n",
            "                       Domain  DomainLength  IsDomainIP  TLD  \\\n",
            "0    www.southbankmosaics.com            24           0  com   \n",
            "1            www.uni-mainz.de            16           0   de   \n",
            "2      www.voicefmradio.co.uk            22           0   uk   \n",
            "3         www.sfnmjournal.com            19           0  com   \n",
            "4  www.rewildingargentina.org            26           0  org   \n",
            "\n",
            "   URLSimilarityIndex  CharContinuationRate  TLDLegitimateProb  ...  Pay  \\\n",
            "0               100.0              1.000000           0.522907  ...  0.0   \n",
            "1               100.0              0.666667           0.032650  ...  0.0   \n",
            "2               100.0              0.866667           0.028555  ...  0.0   \n",
            "3               100.0              1.000000           0.522907  ...  1.0   \n",
            "4               100.0              1.000000           0.079963  ...  1.0   \n",
            "\n",
            "   Crypto  HasCopyrightInfo  NoOfImage  NoOfCSS  NoOfJS  NoOfSelfRef  \\\n",
            "0     0.0               1.0       34.0     20.0    28.0        119.0   \n",
            "1     0.0               1.0       50.0      9.0     8.0         39.0   \n",
            "2     0.0               1.0       10.0      2.0     7.0         42.0   \n",
            "3     1.0               1.0        3.0     27.0    15.0         22.0   \n",
            "4     0.0               1.0      244.0     15.0    34.0         72.0   \n",
            "\n",
            "   NoOfEmptyRef  NoOfExternalRef  label  \n",
            "0           0.0            124.0    1.0  \n",
            "1           0.0            217.0    1.0  \n",
            "2           2.0              5.0    1.0  \n",
            "3           1.0             31.0    1.0  \n",
            "4           1.0             85.0    1.0  \n",
            "\n",
            "[5 rows x 56 columns]\n"
          ]
        }
      ]
    },
    {
      "cell_type": "code",
      "source": [
        "#13.Create a 3D scatter plot using Plotly.\n",
        "import plotly.express as px\n",
        "import pandas as pd\n",
        "\n",
        "# Sample Data\n",
        "data = {\n",
        "    \"X\": [1, 2, 3, 4, 5],\n",
        "    \"Y\": [10, 20, 15, 25, 30],\n",
        "    \"Z\": [5, 15, 10, 20, 25]\n",
        "}\n",
        "\n",
        "# Creating a DataFrame\n",
        "df = pd.DataFrame(data)\n",
        "\n",
        "# Generating the 3D scatter plot\n",
        "fig = px.scatter_3d(df, x=\"X\", y=\"Y\", z=\"Z\", color=\"Z\", title=\"3D Scatter Plot\")\n",
        "\n",
        "# Show the plot\n",
        "fig.show()\n"
      ],
      "metadata": {
        "id": "YvExbxM85ERM"
      },
      "execution_count": null,
      "outputs": []
    }
  ]
}